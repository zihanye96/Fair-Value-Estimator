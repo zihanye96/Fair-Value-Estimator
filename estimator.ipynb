{
 "cells": [
  {
   "cell_type": "markdown",
   "metadata": {},
   "source": [
    "# Fair Value Estimator\n",
    "\n",
    "### About\n",
    "\n",
    "I wrote this notebook so that my friends and I can save time when estimating the fair value of a stock. All information about the stock is pulled from [Morningstar](https://www.morningstar.com/). Note that this is just how I estimate the fair value, and that my methods, just like all methods, are imperfect. The fair value will never be exactly equal to what I estimate it to be at, but on average I expect to be close enough. As a long-term investor, I'm confident that if I continually buy strong stocks at prices significantly below fair value, I will make alot of money in the long run.\n",
    "\n",
    "Here are some things to keep in mind: \n",
    "* The following modules need to be installed on your computer: Ipython, numpy, pandas, matplotlib, seaborn, selenium\n",
    "* This method of valuation only works for established companies with positive earnings. Investing in a new company with no history or negative earnings is speculative in nature, which makes it hard to determine a \"fair value\" for its stock.\n",
    "* The user needs to input 3 values: the ticker symbol of the stock being valued, the acceptable annual returns (%), the expected future growth (%), and the PE ratio that the stock will be sold at.\n",
    "* Buying a stock when it's cheap is only one part of the equation. The stock needs to have a \"moat\", and ideally a good balance sheet, and you need to understand the business (so you know when to sell). If any of these need clarification, please see the link below.\n",
    "* I have details behind how I estimate fair value, as well as notes/tips on investing in my [Github repository](https://github.com/zihanye96/Fair-Value-Estimator).\n"
   ]
  },
  {
   "cell_type": "code",
   "execution_count": 1,
   "metadata": {
    "scrolled": true
   },
   "outputs": [],
   "source": [
    "## required libraries\n",
    "import IPython\n",
    "import numpy as np\n",
    "import pandas as pd\n",
    "import matplotlib\n",
    "import matplotlib.pyplot as plt\n",
    "import seaborn as sns\n",
    "\n",
    "## for web scraping\n",
    "from selenium import webdriver\n",
    "from selenium.webdriver.support import expected_conditions as EC\n",
    "from selenium.webdriver.common.by import By\n",
    "from selenium.webdriver.support.ui import WebDriverWait as wait"
   ]
  },
  {
   "cell_type": "code",
   "execution_count": 2,
   "metadata": {},
   "outputs": [],
   "source": [
    "ticker = \"COST\""
   ]
  },
  {
   "cell_type": "code",
   "execution_count": 3,
   "metadata": {},
   "outputs": [],
   "source": [
    "import datetime\n",
    "present_year = datetime.datetime.now().year"
   ]
  },
  {
   "cell_type": "code",
   "execution_count": 4,
   "metadata": {},
   "outputs": [],
   "source": [
    "rownames = list(np.arange(present_year-10,present_year+1))"
   ]
  },
  {
   "cell_type": "code",
   "execution_count": 5,
   "metadata": {},
   "outputs": [],
   "source": [
    "stock_data = pd.DataFrame({\"Year\":rownames})"
   ]
  },
  {
   "cell_type": "code",
   "execution_count": 6,
   "metadata": {},
   "outputs": [],
   "source": [
    "def fetchPriceRatios(ticker):\n",
    "    \n",
    "    driver = webdriver.Chrome(executable_path='./chromedriver')\n",
    "    driver.get(f'http://financials.morningstar.com/valuation/price-ratio.html?t={ticker}&region=usa&culture=en-US')\n",
    "\n",
    "    tbody = wait(driver, 10).until(EC.presence_of_element_located((By.ID, \"valuation_history_table\")))\n",
    "\n",
    "    rows = tbody.find_elements_by_tag_name(\"tr\")\n",
    "\n",
    "    row_content = [row.text for row in rows]\n",
    "    stock_data[\"PE Ratio\"] = row_content[1].split(\" \")[1:]\n",
    "    stock_data[\"Price to Book\"] = row_content[4].split(\" \")[1:]\n",
    "    stock_data[\"Price to Sales\"] = row_content[7].split(\" \")[1:]\n",
    "\n",
    "    driver.close()"
   ]
  },
  {
   "cell_type": "code",
   "execution_count": 7,
   "metadata": {},
   "outputs": [],
   "source": [
    "def fetchFinancials(ticker):\n",
    "    \n",
    "    driver = webdriver.Chrome(executable_path='./chromedriver')\n",
    "    driver.get(f'http://financials.morningstar.com/ratios/r.html?t={ticker}&region=usa&culture=en-US')\n",
    "    \n",
    "    tbody = wait(driver, 10).until(EC.presence_of_element_located((By.ID, \"financials\")))\n",
    "    rows = tbody.find_elements_by_tag_name(\"tr\")\n",
    "    row_content = [row.text for row in rows]\n",
    "    \n",
    "    currency = row_content[2].split(\" \")[1]\n",
    "    stock_data[\"Revenue\"] = row_content[2].split(\" \")[3:]\n",
    "    stock_data[\"Net Income\"] = row_content[10].split(\" \")[4:]\n",
    "    stock_data[f\"EPS ({currency})\"] = row_content[12].split(\" \")[4:]\n",
    "    stock_data[\"BVPS\"] = row_content[20].split(\" \")[6:]\n",
    "    \n",
    "    tbody = wait(driver, 10).until(EC.presence_of_element_located((By.ID, \"tab-profitability\")))\n",
    "    rows = tbody.find_elements_by_tag_name(\"tr\")\n",
    "    row_content = [row.text for row in rows]\n",
    "    \n",
    "    stock_data[\"ROE\"] = row_content[32].split(\" \")[4:]\n",
    "    stock_data[\"ROIC\"] = row_content[34].split(\" \")[5:]\n",
    "    \n",
    "    driver.close()"
   ]
  },
  {
   "cell_type": "code",
   "execution_count": 8,
   "metadata": {},
   "outputs": [],
   "source": [
    "fetchPriceRatios(ticker)\n",
    "fetchFinancials(ticker)"
   ]
  },
  {
   "cell_type": "code",
   "execution_count": 9,
   "metadata": {},
   "outputs": [
    {
     "data": {
      "text/plain": [
       "pandas.core.frame.DataFrame"
      ]
     },
     "execution_count": 9,
     "metadata": {},
     "output_type": "execute_result"
    }
   ],
   "source": [
    "type(stock_data[[\"BVPS\"]])"
   ]
  },
  {
   "cell_type": "code",
   "execution_count": 10,
   "metadata": {},
   "outputs": [
    {
     "data": {
      "text/plain": [
       "'27.64'"
      ]
     },
     "execution_count": 10,
     "metadata": {},
     "output_type": "execute_result"
    }
   ],
   "source": [
    "stock_data.loc[1, \"BVPS\"]"
   ]
  },
  {
   "cell_type": "code",
   "execution_count": 11,
   "metadata": {},
   "outputs": [
    {
     "data": {
      "text/plain": [
       "str"
      ]
     },
     "execution_count": 11,
     "metadata": {},
     "output_type": "execute_result"
    }
   ],
   "source": [
    "type(stock_data[\"Revenue\"][0])"
   ]
  },
  {
   "cell_type": "code",
   "execution_count": 12,
   "metadata": {},
   "outputs": [],
   "source": [
    "def to_num(column):\n",
    "    if type(column[0]) == str:\n",
    "        return(column.str.replace(',', '').str.replace('—', '0').astype(float))\n",
    "    else:\n",
    "        return(column)"
   ]
  },
  {
   "cell_type": "code",
   "execution_count": 13,
   "metadata": {},
   "outputs": [
    {
     "data": {
      "text/html": [
       "<div>\n",
       "<style scoped>\n",
       "    .dataframe tbody tr th:only-of-type {\n",
       "        vertical-align: middle;\n",
       "    }\n",
       "\n",
       "    .dataframe tbody tr th {\n",
       "        vertical-align: top;\n",
       "    }\n",
       "\n",
       "    .dataframe thead th {\n",
       "        text-align: right;\n",
       "    }\n",
       "</style>\n",
       "<table border=\"1\" class=\"dataframe\">\n",
       "  <thead>\n",
       "    <tr style=\"text-align: right;\">\n",
       "      <th></th>\n",
       "      <th>Year</th>\n",
       "      <th>PE Ratio</th>\n",
       "      <th>Price to Book</th>\n",
       "      <th>Price to Sales</th>\n",
       "      <th>Revenue</th>\n",
       "      <th>Net Income</th>\n",
       "      <th>EPS (USD)</th>\n",
       "      <th>BVPS</th>\n",
       "      <th>ROE</th>\n",
       "      <th>ROIC</th>\n",
       "    </tr>\n",
       "  </thead>\n",
       "  <tbody>\n",
       "    <tr>\n",
       "      <td>0</td>\n",
       "      <td>2010</td>\n",
       "      <td>23.8</td>\n",
       "      <td>2.8</td>\n",
       "      <td>0.4</td>\n",
       "      <td>77946.0</td>\n",
       "      <td>1303.0</td>\n",
       "      <td>2.92</td>\n",
       "      <td>24.98</td>\n",
       "      <td>12.50</td>\n",
       "      <td>10.74</td>\n",
       "    </tr>\n",
       "    <tr>\n",
       "      <td>1</td>\n",
       "      <td>2011</td>\n",
       "      <td>25.1</td>\n",
       "      <td>3.0</td>\n",
       "      <td>0.4</td>\n",
       "      <td>88915.0</td>\n",
       "      <td>1462.0</td>\n",
       "      <td>3.30</td>\n",
       "      <td>27.64</td>\n",
       "      <td>12.81</td>\n",
       "      <td>11.13</td>\n",
       "    </tr>\n",
       "    <tr>\n",
       "      <td>2</td>\n",
       "      <td>2012</td>\n",
       "      <td>24.0</td>\n",
       "      <td>3.4</td>\n",
       "      <td>0.4</td>\n",
       "      <td>99137.0</td>\n",
       "      <td>1709.0</td>\n",
       "      <td>3.89</td>\n",
       "      <td>28.59</td>\n",
       "      <td>14.03</td>\n",
       "      <td>12.46</td>\n",
       "    </tr>\n",
       "    <tr>\n",
       "      <td>3</td>\n",
       "      <td>2013</td>\n",
       "      <td>25.6</td>\n",
       "      <td>4.7</td>\n",
       "      <td>0.5</td>\n",
       "      <td>105156.0</td>\n",
       "      <td>2039.0</td>\n",
       "      <td>4.63</td>\n",
       "      <td>23.98</td>\n",
       "      <td>17.58</td>\n",
       "      <td>14.04</td>\n",
       "    </tr>\n",
       "    <tr>\n",
       "      <td>4</td>\n",
       "      <td>2014</td>\n",
       "      <td>29.5</td>\n",
       "      <td>5.1</td>\n",
       "      <td>0.5</td>\n",
       "      <td>112640.0</td>\n",
       "      <td>2058.0</td>\n",
       "      <td>4.65</td>\n",
       "      <td>27.00</td>\n",
       "      <td>17.79</td>\n",
       "      <td>12.63</td>\n",
       "    </tr>\n",
       "    <tr>\n",
       "      <td>5</td>\n",
       "      <td>2015</td>\n",
       "      <td>30.2</td>\n",
       "      <td>6.5</td>\n",
       "      <td>0.6</td>\n",
       "      <td>116199.0</td>\n",
       "      <td>2377.0</td>\n",
       "      <td>5.37</td>\n",
       "      <td>24.17</td>\n",
       "      <td>20.74</td>\n",
       "      <td>13.69</td>\n",
       "    </tr>\n",
       "    <tr>\n",
       "      <td>6</td>\n",
       "      <td>2016</td>\n",
       "      <td>29.2</td>\n",
       "      <td>5.9</td>\n",
       "      <td>0.6</td>\n",
       "      <td>118719.0</td>\n",
       "      <td>2350.0</td>\n",
       "      <td>5.33</td>\n",
       "      <td>26.30</td>\n",
       "      <td>20.71</td>\n",
       "      <td>14.18</td>\n",
       "    </tr>\n",
       "    <tr>\n",
       "      <td>7</td>\n",
       "      <td>2017</td>\n",
       "      <td>29.6</td>\n",
       "      <td>7.4</td>\n",
       "      <td>0.6</td>\n",
       "      <td>129025.0</td>\n",
       "      <td>2679.0</td>\n",
       "      <td>6.08</td>\n",
       "      <td>22.57</td>\n",
       "      <td>23.44</td>\n",
       "      <td>15.78</td>\n",
       "    </tr>\n",
       "    <tr>\n",
       "      <td>8</td>\n",
       "      <td>2018</td>\n",
       "      <td>27.6</td>\n",
       "      <td>6.8</td>\n",
       "      <td>0.6</td>\n",
       "      <td>141576.0</td>\n",
       "      <td>3134.0</td>\n",
       "      <td>7.09</td>\n",
       "      <td>27.69</td>\n",
       "      <td>26.59</td>\n",
       "      <td>17.44</td>\n",
       "    </tr>\n",
       "    <tr>\n",
       "      <td>9</td>\n",
       "      <td>2019</td>\n",
       "      <td>34.8</td>\n",
       "      <td>8.2</td>\n",
       "      <td>0.8</td>\n",
       "      <td>152703.0</td>\n",
       "      <td>3659.0</td>\n",
       "      <td>8.26</td>\n",
       "      <td>32.94</td>\n",
       "      <td>26.10</td>\n",
       "      <td>17.09</td>\n",
       "    </tr>\n",
       "    <tr>\n",
       "      <td>10</td>\n",
       "      <td>2020</td>\n",
       "      <td>37.3</td>\n",
       "      <td>8.4</td>\n",
       "      <td>0.9</td>\n",
       "      <td>158350.0</td>\n",
       "      <td>3778.0</td>\n",
       "      <td>8.52</td>\n",
       "      <td>37.62</td>\n",
       "      <td>24.80</td>\n",
       "      <td>16.85</td>\n",
       "    </tr>\n",
       "  </tbody>\n",
       "</table>\n",
       "</div>"
      ],
      "text/plain": [
       "    Year  PE Ratio  Price to Book  Price to Sales   Revenue  Net Income  \\\n",
       "0   2010      23.8            2.8             0.4   77946.0      1303.0   \n",
       "1   2011      25.1            3.0             0.4   88915.0      1462.0   \n",
       "2   2012      24.0            3.4             0.4   99137.0      1709.0   \n",
       "3   2013      25.6            4.7             0.5  105156.0      2039.0   \n",
       "4   2014      29.5            5.1             0.5  112640.0      2058.0   \n",
       "5   2015      30.2            6.5             0.6  116199.0      2377.0   \n",
       "6   2016      29.2            5.9             0.6  118719.0      2350.0   \n",
       "7   2017      29.6            7.4             0.6  129025.0      2679.0   \n",
       "8   2018      27.6            6.8             0.6  141576.0      3134.0   \n",
       "9   2019      34.8            8.2             0.8  152703.0      3659.0   \n",
       "10  2020      37.3            8.4             0.9  158350.0      3778.0   \n",
       "\n",
       "    EPS (USD)   BVPS    ROE   ROIC  \n",
       "0        2.92  24.98  12.50  10.74  \n",
       "1        3.30  27.64  12.81  11.13  \n",
       "2        3.89  28.59  14.03  12.46  \n",
       "3        4.63  23.98  17.58  14.04  \n",
       "4        4.65  27.00  17.79  12.63  \n",
       "5        5.37  24.17  20.74  13.69  \n",
       "6        5.33  26.30  20.71  14.18  \n",
       "7        6.08  22.57  23.44  15.78  \n",
       "8        7.09  27.69  26.59  17.44  \n",
       "9        8.26  32.94  26.10  17.09  \n",
       "10       8.52  37.62  24.80  16.85  "
      ]
     },
     "execution_count": 13,
     "metadata": {},
     "output_type": "execute_result"
    }
   ],
   "source": [
    "stock_data.apply(to_num, axis=0)"
   ]
  },
  {
   "cell_type": "code",
   "execution_count": 14,
   "metadata": {},
   "outputs": [],
   "source": [
    "stock_data = stock_data.apply(to_num, axis=0)"
   ]
  },
  {
   "cell_type": "code",
   "execution_count": 15,
   "metadata": {},
   "outputs": [],
   "source": [
    "revenue_percent_change = stock_data.iloc[:, 4].pct_change()\n",
    "Income_percent_change = stock_data.iloc[:, 5].pct_change()\n",
    "EPS_percent_change = stock_data.iloc[:, 6].pct_change()\n",
    "BVPS_percent_change = stock_data.iloc[:, 7].pct_change()\n",
    "percent_change = pd.DataFrame({\"Revenue\": revenue_percent_change, \"Income\": Income_percent_change,\n",
    "                              \"Book Value\": BVPS_percent_change, \"EPS\": EPS_percent_change})"
   ]
  },
  {
   "cell_type": "code",
   "execution_count": 16,
   "metadata": {},
   "outputs": [
    {
     "data": {
      "text/html": [
       "<div>\n",
       "<style scoped>\n",
       "    .dataframe tbody tr th:only-of-type {\n",
       "        vertical-align: middle;\n",
       "    }\n",
       "\n",
       "    .dataframe tbody tr th {\n",
       "        vertical-align: top;\n",
       "    }\n",
       "\n",
       "    .dataframe thead th {\n",
       "        text-align: right;\n",
       "    }\n",
       "</style>\n",
       "<table border=\"1\" class=\"dataframe\">\n",
       "  <thead>\n",
       "    <tr style=\"text-align: right;\">\n",
       "      <th></th>\n",
       "      <th>Year</th>\n",
       "      <th>PE Ratio</th>\n",
       "      <th>Price to Book</th>\n",
       "      <th>Price to Sales</th>\n",
       "      <th>Revenue</th>\n",
       "      <th>Net Income</th>\n",
       "      <th>EPS (USD)</th>\n",
       "      <th>BVPS</th>\n",
       "      <th>ROE</th>\n",
       "      <th>ROIC</th>\n",
       "    </tr>\n",
       "  </thead>\n",
       "  <tbody>\n",
       "    <tr>\n",
       "      <td>0</td>\n",
       "      <td>2010</td>\n",
       "      <td>23.8</td>\n",
       "      <td>2.8</td>\n",
       "      <td>0.4</td>\n",
       "      <td>77946.0</td>\n",
       "      <td>1303.0</td>\n",
       "      <td>2.92</td>\n",
       "      <td>24.98</td>\n",
       "      <td>12.50</td>\n",
       "      <td>10.74</td>\n",
       "    </tr>\n",
       "    <tr>\n",
       "      <td>1</td>\n",
       "      <td>2011</td>\n",
       "      <td>25.1</td>\n",
       "      <td>3.0</td>\n",
       "      <td>0.4</td>\n",
       "      <td>88915.0</td>\n",
       "      <td>1462.0</td>\n",
       "      <td>3.30</td>\n",
       "      <td>27.64</td>\n",
       "      <td>12.81</td>\n",
       "      <td>11.13</td>\n",
       "    </tr>\n",
       "    <tr>\n",
       "      <td>2</td>\n",
       "      <td>2012</td>\n",
       "      <td>24.0</td>\n",
       "      <td>3.4</td>\n",
       "      <td>0.4</td>\n",
       "      <td>99137.0</td>\n",
       "      <td>1709.0</td>\n",
       "      <td>3.89</td>\n",
       "      <td>28.59</td>\n",
       "      <td>14.03</td>\n",
       "      <td>12.46</td>\n",
       "    </tr>\n",
       "    <tr>\n",
       "      <td>3</td>\n",
       "      <td>2013</td>\n",
       "      <td>25.6</td>\n",
       "      <td>4.7</td>\n",
       "      <td>0.5</td>\n",
       "      <td>105156.0</td>\n",
       "      <td>2039.0</td>\n",
       "      <td>4.63</td>\n",
       "      <td>23.98</td>\n",
       "      <td>17.58</td>\n",
       "      <td>14.04</td>\n",
       "    </tr>\n",
       "    <tr>\n",
       "      <td>4</td>\n",
       "      <td>2014</td>\n",
       "      <td>29.5</td>\n",
       "      <td>5.1</td>\n",
       "      <td>0.5</td>\n",
       "      <td>112640.0</td>\n",
       "      <td>2058.0</td>\n",
       "      <td>4.65</td>\n",
       "      <td>27.00</td>\n",
       "      <td>17.79</td>\n",
       "      <td>12.63</td>\n",
       "    </tr>\n",
       "    <tr>\n",
       "      <td>5</td>\n",
       "      <td>2015</td>\n",
       "      <td>30.2</td>\n",
       "      <td>6.5</td>\n",
       "      <td>0.6</td>\n",
       "      <td>116199.0</td>\n",
       "      <td>2377.0</td>\n",
       "      <td>5.37</td>\n",
       "      <td>24.17</td>\n",
       "      <td>20.74</td>\n",
       "      <td>13.69</td>\n",
       "    </tr>\n",
       "    <tr>\n",
       "      <td>6</td>\n",
       "      <td>2016</td>\n",
       "      <td>29.2</td>\n",
       "      <td>5.9</td>\n",
       "      <td>0.6</td>\n",
       "      <td>118719.0</td>\n",
       "      <td>2350.0</td>\n",
       "      <td>5.33</td>\n",
       "      <td>26.30</td>\n",
       "      <td>20.71</td>\n",
       "      <td>14.18</td>\n",
       "    </tr>\n",
       "    <tr>\n",
       "      <td>7</td>\n",
       "      <td>2017</td>\n",
       "      <td>29.6</td>\n",
       "      <td>7.4</td>\n",
       "      <td>0.6</td>\n",
       "      <td>129025.0</td>\n",
       "      <td>2679.0</td>\n",
       "      <td>6.08</td>\n",
       "      <td>22.57</td>\n",
       "      <td>23.44</td>\n",
       "      <td>15.78</td>\n",
       "    </tr>\n",
       "    <tr>\n",
       "      <td>8</td>\n",
       "      <td>2018</td>\n",
       "      <td>27.6</td>\n",
       "      <td>6.8</td>\n",
       "      <td>0.6</td>\n",
       "      <td>141576.0</td>\n",
       "      <td>3134.0</td>\n",
       "      <td>7.09</td>\n",
       "      <td>27.69</td>\n",
       "      <td>26.59</td>\n",
       "      <td>17.44</td>\n",
       "    </tr>\n",
       "    <tr>\n",
       "      <td>9</td>\n",
       "      <td>2019</td>\n",
       "      <td>34.8</td>\n",
       "      <td>8.2</td>\n",
       "      <td>0.8</td>\n",
       "      <td>152703.0</td>\n",
       "      <td>3659.0</td>\n",
       "      <td>8.26</td>\n",
       "      <td>32.94</td>\n",
       "      <td>26.10</td>\n",
       "      <td>17.09</td>\n",
       "    </tr>\n",
       "    <tr>\n",
       "      <td>10</td>\n",
       "      <td>2020</td>\n",
       "      <td>37.3</td>\n",
       "      <td>8.4</td>\n",
       "      <td>0.9</td>\n",
       "      <td>158350.0</td>\n",
       "      <td>3778.0</td>\n",
       "      <td>8.52</td>\n",
       "      <td>37.62</td>\n",
       "      <td>24.80</td>\n",
       "      <td>16.85</td>\n",
       "    </tr>\n",
       "  </tbody>\n",
       "</table>\n",
       "</div>"
      ],
      "text/plain": [
       "    Year  PE Ratio  Price to Book  Price to Sales   Revenue  Net Income  \\\n",
       "0   2010      23.8            2.8             0.4   77946.0      1303.0   \n",
       "1   2011      25.1            3.0             0.4   88915.0      1462.0   \n",
       "2   2012      24.0            3.4             0.4   99137.0      1709.0   \n",
       "3   2013      25.6            4.7             0.5  105156.0      2039.0   \n",
       "4   2014      29.5            5.1             0.5  112640.0      2058.0   \n",
       "5   2015      30.2            6.5             0.6  116199.0      2377.0   \n",
       "6   2016      29.2            5.9             0.6  118719.0      2350.0   \n",
       "7   2017      29.6            7.4             0.6  129025.0      2679.0   \n",
       "8   2018      27.6            6.8             0.6  141576.0      3134.0   \n",
       "9   2019      34.8            8.2             0.8  152703.0      3659.0   \n",
       "10  2020      37.3            8.4             0.9  158350.0      3778.0   \n",
       "\n",
       "    EPS (USD)   BVPS    ROE   ROIC  \n",
       "0        2.92  24.98  12.50  10.74  \n",
       "1        3.30  27.64  12.81  11.13  \n",
       "2        3.89  28.59  14.03  12.46  \n",
       "3        4.63  23.98  17.58  14.04  \n",
       "4        4.65  27.00  17.79  12.63  \n",
       "5        5.37  24.17  20.74  13.69  \n",
       "6        5.33  26.30  20.71  14.18  \n",
       "7        6.08  22.57  23.44  15.78  \n",
       "8        7.09  27.69  26.59  17.44  \n",
       "9        8.26  32.94  26.10  17.09  \n",
       "10       8.52  37.62  24.80  16.85  "
      ]
     },
     "execution_count": 16,
     "metadata": {},
     "output_type": "execute_result"
    }
   ],
   "source": [
    "stock_data"
   ]
  },
  {
   "cell_type": "markdown",
   "metadata": {},
   "source": [
    "### Summary"
   ]
  },
  {
   "cell_type": "code",
   "execution_count": 17,
   "metadata": {
    "scrolled": false
   },
   "outputs": [
    {
     "name": "stdout",
     "output_type": "stream",
     "text": [
      "PE Ratio over last 10 years: [23.8 25.1 24.  25.6 29.5 30.2 29.2 29.6 27.6 34.8 37.3]\n"
     ]
    },
    {
     "data": {
      "image/png": "[encoded data removed]",
      "text/plain": [
       "<Figure size 432x288 with 1 Axes>"
      ]
     },
     "metadata": {
      "needs_background": "light"
     },
     "output_type": "display_data"
    }
   ],
   "source": [
    "sns.lineplot(stock_data[\"Year\"],stock_data[\"PE Ratio\"])\n",
    "plt.title(\"PE Ratio History\")\n",
    "print(\"PE Ratio over last 10 years: {}\".format(np.array(stock_data[\"PE Ratio\"])))"
   ]
  },
  {
   "cell_type": "code",
   "execution_count": 18,
   "metadata": {
    "scrolled": true
   },
   "outputs": [
    {
     "name": "stdout",
     "output_type": "stream",
     "text": [
      "Based on historical data, what PE Ratio will you sell at?40\n"
     ]
    }
   ],
   "source": [
    "PE_sell = input(\"Based on historical data, what PE Ratio will you sell at?\")"
   ]
  },
  {
   "cell_type": "code",
   "execution_count": 19,
   "metadata": {
    "scrolled": true
   },
   "outputs": [
    {
     "name": "stdout",
     "output_type": "stream",
     "text": [
      "Management Effectiveness: \n",
      "     ROIC    ROE\n",
      "0   10.74  12.50\n",
      "1   11.13  12.81\n",
      "2   12.46  14.03\n",
      "3   14.04  17.58\n",
      "4   12.63  17.79\n",
      "5   13.69  20.74\n",
      "6   14.18  20.71\n",
      "7   15.78  23.44\n",
      "8   17.44  26.59\n",
      "9   17.09  26.10\n",
      "10  16.85  24.80\n",
      "% Growth in: \n",
      "     Revenue     Income  Book Value        EPS\n",
      "1  14.072563  12.202609   10.648519  13.013699\n",
      "2  11.496373  16.894665    3.437048  17.878788\n",
      "3   6.071396  19.309538  -16.124519  19.023136\n",
      "4   7.117045   0.931829   12.593828   0.431965\n",
      "5   3.159624  15.500486  -10.481481  15.483871\n",
      "6   2.168693  -1.135886    8.812578  -0.744879\n",
      "7   8.681003  14.000000  -14.182510  14.071295\n",
      "8   9.727572  16.983949   22.684980  16.611842\n",
      "9   7.859383  16.751755   18.959913  16.502116\n"
     ]
    }
   ],
   "source": [
    "## format the df's better - use green for above 15%, red for negative?\n",
    "\n",
    "print(\"Management Effectiveness: \\n{}\".format(pd.DataFrame({\"ROIC\": stock_data[\"ROIC\"], \n",
    "                                                            \"ROE\": stock_data[\"ROE\"]})))\n",
    "print(\"% Growth in: \\n{}\".format(percent_change.iloc[1:10,:]*100))"
   ]
  },
  {
   "cell_type": "code",
   "execution_count": 20,
   "metadata": {
    "scrolled": true
   },
   "outputs": [
    {
     "name": "stdout",
     "output_type": "stream",
     "text": [
      "Based on historical data, how much (in %) do you think the EPS will grow on average over the next 5 years?10\n",
      "What is the per year rate of return (in %) do you want from this investment?10\n"
     ]
    }
   ],
   "source": [
    "future_growth = input(\"Based on historical data, how much (in %) do you think the EPS will grow on average over the next 5 years?\")\n",
    "annual_ror = input(\"What is the per year rate of return (in %) do you want from this investment?\")"
   ]
  },
  {
   "cell_type": "code",
   "execution_count": 21,
   "metadata": {},
   "outputs": [],
   "source": [
    "def estimate_fair_value(EPS, future_growth, ror, PE):\n",
    "    \n",
    "    future_value = EPS * (1+future_growth/100)**5 * PE\n",
    "    present_value = future_value/((1+ror/100)**5)\n",
    "    return(future_value, present_value)"
   ]
  },
  {
   "cell_type": "code",
   "execution_count": 22,
   "metadata": {},
   "outputs": [
    {
     "name": "stdout",
     "output_type": "stream",
     "text": [
      "Fair Value Estimate: $340.80\n",
      "The future value of your investment is: $548.86\n"
     ]
    }
   ],
   "source": [
    "future, present = estimate_fair_value(stock_data.iloc[10, 6], float(future_growth), float(annual_ror), float(PE_sell))\n",
    "\n",
    "print(\"Fair Value Estimate: ${:.2f}\".format(present))\n",
    "print(\"The future value of your investment is: ${:.2f}\".format(future))"
   ]
  }
 ],
 "metadata": {
  "kernelspec": {
   "display_name": "Python 3",
   "language": "python",
   "name": "python3"
  },
  "language_info": {
   "codemirror_mode": {
    "name": "ipython",
    "version": 3
   },
   "file_extension": ".py",
   "mimetype": "text/x-python",
   "name": "python",
   "nbconvert_exporter": "python",
   "pygments_lexer": "ipython3",
   "version": "3.7.4"
  }
 },
 "nbformat": 4,
 "nbformat_minor": 2
}
